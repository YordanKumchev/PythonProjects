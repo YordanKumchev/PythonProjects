{
 "cells": [
  {
   "cell_type": "markdown",
   "metadata": {},
   "source": [
    "# Conditionals and whitespaces"
   ]
  },
  {
   "cell_type": "markdown",
   "metadata": {},
   "source": [
    "Making comparisons in Python. Most code needs to make decisions about which path to execute. We can also use expressions to get boolean values."
   ]
  },
  {
   "cell_type": "code",
   "execution_count": 1,
   "metadata": {},
   "outputs": [
    {
     "data": {
      "text/plain": [
       "False"
      ]
     },
     "execution_count": 1,
     "metadata": {},
     "output_type": "execute_result"
    }
   ],
   "source": [
    "5>9"
   ]
  },
  {
   "cell_type": "markdown",
   "metadata": {},
   "source": [
    "> greater than\n",
    "\n",
    "< less than\n",
    "\n",
    ">= greater than or equal to\n",
    "\n",
    "\n",
    "<= less than or equal to\n",
    "\n",
    "\n",
    "== equal to\n",
    "\n",
    "\n",
    "!= not equal to\n",
    "\n",
    "\n",
    "is identical object\n",
    "\n",
    "\n",
    "is not not identical object"
   ]
  },
  {
   "cell_type": "code",
   "execution_count": 4,
   "metadata": {},
   "outputs": [
    {
     "data": {
      "text/plain": [
       "True"
      ]
     },
     "execution_count": 4,
     "metadata": {},
     "output_type": "execute_result"
    }
   ],
   "source": [
    "name = \"Jordan\"\n",
    "name == \"Jordan\""
   ]
  },
  {
   "cell_type": "code",
   "execution_count": 5,
   "metadata": {},
   "outputs": [
    {
     "data": {
      "text/plain": [
       "False"
      ]
     },
     "execution_count": 5,
     "metadata": {},
     "output_type": "execute_result"
    }
   ],
   "source": [
    "name == \"Vasil\""
   ]
  },
  {
   "cell_type": "code",
   "execution_count": 6,
   "metadata": {},
   "outputs": [
    {
     "data": {
      "text/plain": [
       "True"
      ]
     },
     "execution_count": 6,
     "metadata": {},
     "output_type": "execute_result"
    }
   ],
   "source": [
    "name != \"Fred\""
   ]
  },
  {
   "cell_type": "markdown",
   "metadata": {},
   "source": [
    "# Combining conditionals"
   ]
  },
  {
   "cell_type": "markdown",
   "metadata": {},
   "source": [
    "Conditional expressions are combined using boolean logic. This logic consists of the \"and\", \"or\" and \"not\" operators."
   ]
  },
  {
   "cell_type": "raw",
   "metadata": {},
   "source": [
    "x and y --> both x and y must evaluate to True for true result\n",
    "x or y --> If x or y is True, result is true\n",
    "not x --> negate the value of x(True becomes False and vice versa)"
   ]
  },
  {
   "cell_type": "code",
   "execution_count": 13,
   "metadata": {},
   "outputs": [
    {
     "name": "stdout",
     "output_type": "stream",
     "text": [
      "A\n"
     ]
    }
   ],
   "source": [
    "score = 91\n",
    "if score > 90 and score <= 100:\n",
    "    grade = 'A'\n",
    "print(grade)"
   ]
  },
  {
   "cell_type": "code",
   "execution_count": 14,
   "metadata": {},
   "outputs": [
    {
     "name": "stdout",
     "output_type": "stream",
     "text": [
      "A\n"
     ]
    }
   ],
   "source": [
    "if 90 < score <= 100:\n",
    "    grade = 'A'\n",
    "print(grade)"
   ]
  },
  {
   "cell_type": "code",
   "execution_count": 20,
   "metadata": {},
   "outputs": [
    {
     "name": "stdout",
     "output_type": "stream",
     "text": [
      "False\n"
     ]
    }
   ],
   "source": [
    "name = \"Jordan\"\n",
    "if name == \"George\" or \\\n",
    "    name == \"Ringo\" or \\\n",
    "    name == \"John\" or \\\n",
    "    name == \"Paul\":\n",
    "    beatle = True\n",
    "else:\n",
    "    beatle = False\n",
    "    \n",
    "print(beatle)"
   ]
  },
  {
   "cell_type": "code",
   "execution_count": 29,
   "metadata": {},
   "outputs": [
    {
     "name": "stdout",
     "output_type": "stream",
     "text": [
      "True\n"
     ]
    }
   ],
   "source": [
    "name = \"Paul\"\n",
    "if (name == \"George\" or\n",
    "    name == \"Ringo\" or\n",
    "    name == \"John\" or\n",
    "    name == \"Paul\"):\n",
    "    beatle = True\n",
    "else:\n",
    "    beatle = False\n",
    "    \n",
    "print(beatle)"
   ]
  },
  {
   "cell_type": "code",
   "execution_count": 30,
   "metadata": {},
   "outputs": [],
   "source": [
    "beatles = {\"George\", \"Ringo\", \"John\", \"Paul\"}\n",
    "beatle = name in beatles"
   ]
  },
  {
   "cell_type": "raw",
   "metadata": {},
   "source": [
    "beatle"
   ]
  },
  {
   "cell_type": "code",
   "execution_count": 32,
   "metadata": {},
   "outputs": [],
   "source": [
    "last_name = \"unknown\"\n",
    "if name != \"Paul\" and not beatle:\n",
    "    last_name = \"Revere\""
   ]
  },
  {
   "cell_type": "code",
   "execution_count": 33,
   "metadata": {},
   "outputs": [
    {
     "data": {
      "text/plain": [
       "'unknown'"
      ]
     },
     "execution_count": 33,
     "metadata": {},
     "output_type": "execute_result"
    }
   ],
   "source": [
    "last_name"
   ]
  },
  {
   "cell_type": "markdown",
   "metadata": {},
   "source": [
    "# If statements"
   ]
  },
  {
   "cell_type": "raw",
   "metadata": {},
   "source": [
    "Booleans (True and False) are often used in conditional statements. Conditional statements are instructions that say \"if this statement is true, perform a block of code, otherwise execute some other code\".\n",
    "Branching statements are used frequently in Python. Sometimes, the \"if statement\" will check values that contain booleans, other time it will check expressions that evaluate to booleans. Another common check is for implicit coercion to \"truthy\" or \"falsey\" values:"
   ]
  },
  {
   "cell_type": "code",
   "execution_count": 37,
   "metadata": {},
   "outputs": [
    {
     "name": "stdout",
     "output_type": "stream",
     "text": [
      "Debugging\n"
     ]
    }
   ],
   "source": [
    "debug = True\n",
    "if debug:\n",
    "    print(\"Debugging\")"
   ]
  },
  {
   "cell_type": "markdown",
   "metadata": {},
   "source": [
    "# Else statements"
   ]
  },
  {
   "cell_type": "raw",
   "metadata": {},
   "source": [
    "An else statement can be used in combination with an if statement. The body of the else statement will execute only if the if statement evaluates to False. Here is an example of combining an else statemen with an if statement:"
   ]
  },
  {
   "cell_type": "code",
   "execution_count": 42,
   "metadata": {},
   "outputs": [
    {
     "name": "stdout",
     "output_type": "stream",
     "text": [
      "B\n"
     ]
    }
   ],
   "source": [
    "test_score = 87\n",
    "if 90 < test_score < 100:\n",
    "    grade = \"A\"\n",
    "else:\n",
    "    grade = \"B\"\n",
    "    \n",
    "print(grade)"
   ]
  },
  {
   "cell_type": "code",
   "execution_count": 43,
   "metadata": {},
   "outputs": [
    {
     "name": "stdout",
     "output_type": "stream",
     "text": [
      "A\n"
     ]
    }
   ],
   "source": [
    "test_score = 94\n",
    "if 90 < test_score < 100:\n",
    "    grade = \"A\"\n",
    "else:\n",
    "    grade = \"B\"\n",
    "    \n",
    "print(grade)"
   ]
  },
  {
   "cell_type": "markdown",
   "metadata": {},
   "source": [
    "# More choices - elif"
   ]
  },
  {
   "cell_type": "raw",
   "metadata": {},
   "source": [
    "We can add more intermediate steps with \"elif\""
   ]
  },
  {
   "cell_type": "code",
   "execution_count": 48,
   "metadata": {},
   "outputs": [
    {
     "name": "stdout",
     "output_type": "stream",
     "text": [
      "C\n"
     ]
    }
   ],
   "source": [
    "test_score = 71\n",
    "\n",
    "if test_score >= 90:\n",
    "    grade = \"A\"\n",
    "elif test_score >= 80:\n",
    "    grade = \"B\"\n",
    "elif test_score >= 70:\n",
    "    grade = \"C\"\n",
    "elif test_score >= 60:\n",
    "    grade = \"D\"\n",
    "elif test_score >=50:\n",
    "    grade = \"E\"\n",
    "else:\n",
    "    grade = \"F\"\n",
    "\n",
    "print(grade)"
   ]
  },
  {
   "cell_type": "raw",
   "metadata": {},
   "source": [
    "The if statement can have zero or more elif statements. The else statement is optional. If it exists, there can only be one."
   ]
  },
  {
   "cell_type": "markdown",
   "metadata": {},
   "source": [
    "# Whitespace"
   ]
  },
  {
   "cell_type": "raw",
   "metadata": {},
   "source": [
    "The colon (:) follwoing the boolean expression in the if statement. The lines immediately after the if statement were indented by four spaces. The indented lines are the block of code that is executed when the if expression evaluates to True.\n",
    "Python, unlike other languages, uses two things to denote blocks:\n",
    "- a colon (:)\n",
    "- indentation\n"
   ]
  }
 ],
 "metadata": {
  "kernelspec": {
   "display_name": "Python 3",
   "language": "python",
   "name": "python3"
  },
  "language_info": {
   "codemirror_mode": {
    "name": "ipython",
    "version": 3
   },
   "file_extension": ".py",
   "mimetype": "text/x-python",
   "name": "python",
   "nbconvert_exporter": "python",
   "pygments_lexer": "ipython3",
   "version": "3.7.3"
  }
 },
 "nbformat": 4,
 "nbformat_minor": 4
}
