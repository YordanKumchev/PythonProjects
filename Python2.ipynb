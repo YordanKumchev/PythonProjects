{
 "cells": [
  {
   "cell_type": "markdown",
   "metadata": {},
   "source": [
    "# The interpreter"
   ]
  },
  {
   "cell_type": "markdown",
   "metadata": {},
   "source": [
    "Compiled language: by executing a program, it goes to a compiler and then binary runs on an operator.Interpreted language: by running a program, the interpreter runs on computer and runs program commands. Python might have slower execution times than C programs, but it's optimized for developer time. Citing - \"It's not uncommon for a Python program to be 2-10 times shorter than it's C equivalent."
   ]
  },
  {
   "cell_type": "markdown",
   "metadata": {},
   "source": [
    "Python has an interactive interpreter - REPL - READ, EVALUATE, PRINT, LOOP."
   ]
  },
  {
   "cell_type": "markdown",
   "metadata": {},
   "source": [
    "Simple output"
   ]
  },
  {
   "cell_type": "code",
   "execution_count": null,
   "metadata": {},
   "outputs": [],
   "source": [
    "print(\"Hello there\")"
   ]
  },
  {
   "cell_type": "code",
   "execution_count": null,
   "metadata": {},
   "outputs": [],
   "source": [
    "print(\"I am\", 10, \"Years old\")"
   ]
  },
  {
   "cell_type": "code",
   "execution_count": null,
   "metadata": {},
   "outputs": [],
   "source": [
    "name = input('Enter your name')"
   ]
  },
  {
   "cell_type": "code",
   "execution_count": null,
   "metadata": {},
   "outputs": [],
   "source": [
    "print(name)"
   ]
  },
  {
   "cell_type": "markdown",
   "metadata": {},
   "source": [
    "The value entered into the terminal input is ALWAYS a string."
   ]
  },
  {
   "cell_type": "code",
   "execution_count": 1,
   "metadata": {},
   "outputs": [
    {
     "name": "stdin",
     "output_type": "stream",
     "text": [
      "Enter a number 7\n"
     ]
    }
   ],
   "source": [
    "value = input(\"Enter a number\")"
   ]
  },
  {
   "cell_type": "code",
   "execution_count": 2,
   "metadata": {},
   "outputs": [
    {
     "name": "stdin",
     "output_type": "stream",
     "text": [
      "Enter another 8\n"
     ]
    }
   ],
   "source": [
    "other = input(\"Enter another\")"
   ]
  },
  {
   "cell_type": "code",
   "execution_count": 4,
   "metadata": {},
   "outputs": [
    {
     "data": {
      "text/plain": [
       "str"
      ]
     },
     "execution_count": 4,
     "metadata": {},
     "output_type": "execute_result"
    }
   ],
   "source": [
    "type(value)"
   ]
  },
  {
   "cell_type": "code",
   "execution_count": 5,
   "metadata": {},
   "outputs": [
    {
     "data": {
      "text/plain": [
       "str"
      ]
     },
     "execution_count": 5,
     "metadata": {},
     "output_type": "execute_result"
    }
   ],
   "source": [
    "type(other)"
   ]
  },
  {
   "cell_type": "code",
   "execution_count": 7,
   "metadata": {},
   "outputs": [
    {
     "data": {
      "text/plain": [
       "'78'"
      ]
     },
     "execution_count": 7,
     "metadata": {},
     "output_type": "execute_result"
    }
   ],
   "source": [
    "value + other #This line CONCATENATES both inputs, because they're in a string format"
   ]
  },
  {
   "cell_type": "markdown",
   "metadata": {},
   "source": [
    "int(value) + int(other) # This line adds the INTEGER values of the inputs"
   ]
  },
  {
   "cell_type": "markdown",
   "metadata": {},
   "source": [
    "Tasks:\n",
    "1. Create some Python code that will prompt you to enter your name.\n",
    "Print out Hello and then the name.\n",
    "2. Create a program that will ask a user how old they are. Print out some\n",
    "text telling them how old they will be next year."
   ]
  },
  {
   "cell_type": "code",
   "execution_count": 11,
   "metadata": {},
   "outputs": [
    {
     "name": "stdin",
     "output_type": "stream",
     "text": [
      "What's your name? Jordan\n"
     ]
    }
   ],
   "source": [
    "my_name = input(\"What's your name?\")"
   ]
  },
  {
   "cell_type": "code",
   "execution_count": 14,
   "metadata": {},
   "outputs": [
    {
     "name": "stdout",
     "output_type": "stream",
     "text": [
      "Hello, Jordan\n"
     ]
    }
   ],
   "source": [
    "print(\"Hello,\", my_name)"
   ]
  },
  {
   "cell_type": "code",
   "execution_count": 15,
   "metadata": {},
   "outputs": [
    {
     "name": "stdin",
     "output_type": "stream",
     "text": [
      "What's your current age? 23\n"
     ]
    }
   ],
   "source": [
    "my_age = input(\"What's your current age?\")"
   ]
  },
  {
   "cell_type": "code",
   "execution_count": 17,
   "metadata": {},
   "outputs": [
    {
     "data": {
      "text/plain": [
       "24"
      ]
     },
     "execution_count": 17,
     "metadata": {},
     "output_type": "execute_result"
    }
   ],
   "source": [
    "next_year_age = int(my_age) +1\n",
    "next_year_age"
   ]
  },
  {
   "cell_type": "code",
   "execution_count": 32,
   "metadata": {},
   "outputs": [
    {
     "data": {
      "text/plain": [
       "'Next year Jordan is going to be 24 years old'"
      ]
     },
     "execution_count": 32,
     "metadata": {},
     "output_type": "execute_result"
    }
   ],
   "source": [
    "f\"Next year {my_name} is going to be {next_year_age} years old\""
   ]
  },
  {
   "cell_type": "markdown",
   "metadata": {},
   "source": [
    "# Variables"
   ]
  },
  {
   "cell_type": "markdown",
   "metadata": {},
   "source": [
    "Two important programming concepts are state and mutation. State deals with a digital representation of a model. For example, if you want to model a light bulb, you may want to store its current status—is it on or off? Other possibly interesting states you could store include the type of bulb (CFL orincandescent), wattage, size, dimmable, etc. Mutation deals with changing the state to a new or different state. For the light bulb example, it could be useful to have a power switch that toggles the state and changes it from off to on."
   ]
  },
  {
   "cell_type": "markdown",
   "metadata": {},
   "source": [
    "Objects have state and might be mutated. To keep track of the objects, we use VARIABLES\n",
    "Variables are like a label or a tag."
   ]
  },
  {
   "cell_type": "code",
   "execution_count": 33,
   "metadata": {},
   "outputs": [
    {
     "data": {
      "text/plain": [
       "2"
      ]
     },
     "execution_count": 33,
     "metadata": {},
     "output_type": "execute_result"
    }
   ],
   "source": [
    "# If you want to inspect the reference count of an object, you can call sys.getrefcount() on it\n",
    "import sys\n",
    "names = []\n",
    "sys.getrefcount(names)"
   ]
  },
  {
   "cell_type": "markdown",
   "metadata": {},
   "source": [
    "IMPORTANT NOTE: Return the reference count of object. The count returned is generally one higher than you might expect, because it includes the (temporary) reference as an argument to\n",
    "getrefcount().\n"
   ]
  },
  {
   "cell_type": "markdown",
   "metadata": {},
   "source": [
    "# Cattle tags"
   ]
  },
  {
   "cell_type": "markdown",
   "metadata": {},
   "source": [
    "The analogy with cattle ranch - you might want to keep track of certain identification marks within the ranch. This is where variables come in handy. Let's say, If we're identifying humans, we might need their age, address and name."
   ]
  },
  {
   "cell_type": "code",
   "execution_count": 35,
   "metadata": {},
   "outputs": [],
   "source": [
    "age = 16\n",
    "address = \"Bury New Road 7\"\n",
    "name = \"Jordan\""
   ]
  },
  {
   "cell_type": "code",
   "execution_count": 43,
   "metadata": {},
   "outputs": [
    {
     "name": "stdout",
     "output_type": "stream",
     "text": [
      "16\n"
     ]
    }
   ],
   "source": [
    "print(age)"
   ]
  },
  {
   "cell_type": "code",
   "execution_count": 42,
   "metadata": {},
   "outputs": [
    {
     "name": "stdout",
     "output_type": "stream",
     "text": [
      "Bury New Road 7\n"
     ]
    }
   ],
   "source": [
    "print(address)"
   ]
  },
  {
   "cell_type": "code",
   "execution_count": 39,
   "metadata": {},
   "outputs": [
    {
     "name": "stdout",
     "output_type": "stream",
     "text": [
      "Jordan\n"
     ]
    }
   ],
   "source": [
    "print(name)"
   ]
  },
  {
   "cell_type": "code",
   "execution_count": 48,
   "metadata": {},
   "outputs": [],
   "source": [
    "# Coming back to the bulb example\n",
    "status = \"off\"\n",
    "wattage = \"25 watt\"\n",
    "incandescent = wattage"
   ]
  },
  {
   "cell_type": "code",
   "execution_count": 49,
   "metadata": {},
   "outputs": [
    {
     "name": "stdout",
     "output_type": "stream",
     "text": [
      "25 watt 25 watt\n"
     ]
    }
   ],
   "source": [
    "print(incandescent, wattage)"
   ]
  },
  {
   "cell_type": "code",
   "execution_count": 51,
   "metadata": {},
   "outputs": [],
   "source": [
    "# This is a common example of rebinding variables. First we bind the 'num' to 400(int) and then we rebind it to '400'(str)\n",
    "num = 400 #This is an integer\n",
    "num = '400' # This is a string"
   ]
  },
  {
   "cell_type": "markdown",
   "metadata": {},
   "source": [
    "# Naming variables"
   ]
  },
  {
   "cell_type": "markdown",
   "metadata": {},
   "source": [
    "Variable naming is done by following a convention - some of the conventions are enforced, some of them - aren't. One that is enforced by the interpreter is that a variable should not have the name of a keywoard. The word \"break\" is a keywoard and hennce cannot be used as a variable."
   ]
  },
  {
   "cell_type": "code",
   "execution_count": 53,
   "metadata": {},
   "outputs": [
    {
     "ename": "SyntaxError",
     "evalue": "invalid syntax (<ipython-input-53-38742d10220e>, line 1)",
     "output_type": "error",
     "traceback": [
      "\u001b[1;36m  File \u001b[1;32m\"<ipython-input-53-38742d10220e>\"\u001b[1;36m, line \u001b[1;32m1\u001b[0m\n\u001b[1;33m    break = 'foo' #In this case, break is a function and can't be called as a variable.\u001b[0m\n\u001b[1;37m          ^\u001b[0m\n\u001b[1;31mSyntaxError\u001b[0m\u001b[1;31m:\u001b[0m invalid syntax\n"
     ]
    }
   ],
   "source": [
    "break = 'foo' #In this case, break is a function and can't be called as a variable."
   ]
  },
  {
   "cell_type": "code",
   "execution_count": 57,
   "metadata": {},
   "outputs": [
    {
     "name": "stdout",
     "output_type": "stream",
     "text": [
      "Here are the keywords in Python:\n",
      "['False', 'None', 'True', 'and', 'as', 'assert', 'async', 'await', 'break', 'class', 'continue', 'def', 'del', 'elif', 'else', 'except', 'finally', 'for', 'from', 'global', 'if', 'import', 'in', 'is', 'lambda', 'nonlocal', 'not', 'or', 'pass', 'raise', 'return', 'try', 'while', 'with', 'yield']\n"
     ]
    }
   ],
   "source": [
    "print(\"Here are the keywords in Python:\")\n",
    "import keyword\n",
    "print(keyword.kwlist)"
   ]
  },
  {
   "cell_type": "markdown",
   "metadata": {},
   "source": [
    "The variables should:\n",
    "- be lowercase\n",
    "- use underscore to separate words\n",
    "- not start with numbers\n",
    "- not override a built in function"
   ]
  },
  {
   "cell_type": "markdown",
   "metadata": {},
   "source": [
    "Tasks:\n",
    "1. Create a variable, pi, that points to an approximation for the value of π. Create a variable, r, for the radius of a circle that has a value of 10. Calculate the area of the circle (π times the radius squared). You can do multiplication with * and you can square numbers using **. For example, 3**2 is 9\n",
    "2. . Create a variable, b, that points to the base of a rectangle with a value of 10. Create a variable, h, that points to the height of a rectangle with a value of 2. Calculate the perimeter. Change the base to 6 and calculate the perimeter again.\n"
   ]
  },
  {
   "cell_type": "code",
   "execution_count": 61,
   "metadata": {},
   "outputs": [
    {
     "name": "stdout",
     "output_type": "stream",
     "text": [
      "314.159265359\n"
     ]
    }
   ],
   "source": [
    "# Task 1\n",
    "pi = 3.14159265359\n",
    "r = 10\n",
    "area = pi * (r*r)\n",
    "print(area)"
   ]
  },
  {
   "cell_type": "code",
   "execution_count": 66,
   "metadata": {},
   "outputs": [
    {
     "name": "stdout",
     "output_type": "stream",
     "text": [
      "12\n"
     ]
    }
   ],
   "source": [
    "# Task2\n",
    "b = 6\n",
    "h = 2\n",
    "perimeter = b*h\n",
    "print(perimeter)"
   ]
  },
  {
   "cell_type": "code",
   "execution_count": null,
   "metadata": {},
   "outputs": [],
   "source": []
  }
 ],
 "metadata": {
  "kernelspec": {
   "display_name": "Python 3",
   "language": "python",
   "name": "python3"
  },
  "language_info": {
   "codemirror_mode": {
    "name": "ipython",
    "version": 3
   },
   "file_extension": ".py",
   "mimetype": "text/x-python",
   "name": "python",
   "nbconvert_exporter": "python",
   "pygments_lexer": "ipython3",
   "version": "3.7.3"
  }
 },
 "nbformat": 4,
 "nbformat_minor": 4
}
